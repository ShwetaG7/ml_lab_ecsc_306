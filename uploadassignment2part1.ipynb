{
 "cells": [
  {
   "cell_type": "code",
   "execution_count": 24,
   "metadata": {},
   "outputs": [
    {
     "name": "stdout",
     "output_type": "stream",
     "text": [
      "1.25926\n",
      "1.25926\n"
     ]
    }
   ],
   "source": [
    "import tensorflow as tf\n",
    "\n",
    "x = tf.constant([1,2,3],dtype=tf.float32)\n",
    "y= tf.constant([4,5,6],dtype=tf.float32)\n",
    "\n",
    "with tf.name_scope(\"mean_x\"):\n",
    "    meanx=0\n",
    "    meany=0\n",
    "    for i in range(3):\n",
    "        meanx=tf.div(tf.add(x[i],meanx),3)\n",
    "        meany=tf.div(tf.add(x[i],meany),3)\n",
    "with tf.Session() as sess:\n",
    "    writer = tf.summary.FileWriter(\"/tmp/tboard/o1\", sess.graph)\n",
    "    print(sess.run(meanx))\n",
    "    print(sess.run(meany))\n",
    "    writer.close()\n",
    "\n",
    "\n"
   ]
  },
  {
   "cell_type": "markdown",
   "metadata": {},
   "source": [
    "Calculate variance for x $$variance(x)=sum((x-mean(x))^2)$$"
   ]
  },
  {
   "cell_type": "code",
   "execution_count": 22,
   "metadata": {},
   "outputs": [
    {
     "name": "stdout",
     "output_type": "stream",
     "text": [
      "3.64609\n"
     ]
    }
   ],
   "source": [
    "with tf.name_scope(\"varianceofx\"):\n",
    "    variancex=0\n",
    "    for i in range(3):\n",
    "        a=tf.subtract(x[i],meanx)\n",
    "        b=tf.pow(a,2)\n",
    "        variancex=tf.add(b,variancex)\n",
    "with tf.Session() as sess:\n",
    "    writer = tf.summary.FileWriter(\"/tmp/tboard/o2\", sess.graph)\n",
    "    print(sess.run(variancex))\n",
    "    writer.close()\n",
    "        \n",
    "    \n",
    "        \n"
   ]
  },
  {
   "cell_type": "markdown",
   "metadata": {},
   "source": [
    "$$covariance = sum((x(i) - mean(x)) * (y(i) - mean(y)))$$"
   ]
  },
  {
   "cell_type": "code",
   "execution_count": 25,
   "metadata": {},
   "outputs": [
    {
     "name": "stdout",
     "output_type": "stream",
     "text": [
      "10.3128\n"
     ]
    }
   ],
   "source": [
    "with tf.name_scope(\"covariance\"):\n",
    "    covariancex=0\n",
    "    for i in range(3):\n",
    "        covariancex=tf.add(tf.multiply(tf.subtract(x[i],meanx),tf.subtract(y[i],meany)),covariancex)\n",
    "\n",
    "with tf.Session() as sess:\n",
    "    writer = tf.summary.FileWriter(\"/tmp/tboard/o3\", sess.graph)\n",
    "    print(sess.run(covariancex))\n",
    "    writer.close()\n",
    "                           "
   ]
  },
  {
   "cell_type": "markdown",
   "metadata": {},
   "source": [
    "$$c = covariance(x,y)/variance(x)$$"
   ]
  },
  {
   "cell_type": "code",
   "execution_count": 21,
   "metadata": {},
   "outputs": [
    {
     "name": "stdout",
     "output_type": "stream",
     "text": [
      "2.82844\n"
     ]
    }
   ],
   "source": [
    "with tf.name_scope(\"c\"):\n",
    "    c=tf.div(covariancex,variancex)\n",
    "with tf.Session() as sess:\n",
    "    writer = tf.summary.FileWriter(\"/tmp/tboard/o1\", sess.graph)\n",
    "    print(sess.run(c))\n",
    "    writer.close()"
   ]
  },
  {
   "cell_type": "markdown",
   "metadata": {},
   "source": [
    "$$m = mean(y) -c* mean(x)$$"
   ]
  },
  {
   "cell_type": "code",
   "execution_count": 20,
   "metadata": {},
   "outputs": [
    {
     "name": "stdout",
     "output_type": "stream",
     "text": [
      "-1.82844\n"
     ]
    }
   ],
   "source": [
    "with tf.name_scope(\"m\"):\n",
    "    m=tf.subtract(y_mean,tf.multiply(c,x_mean))\n",
    "with tf.Session() as sess:\n",
    "    writer = tf.summary.FileWriter(\"/tmp/tboard/o5\", sess.graph)\n",
    "    print(sess.run(m))\n",
    "    writer.close()"
   ]
  },
  {
   "cell_type": "code",
   "execution_count": null,
   "metadata": {
    "collapsed": true
   },
   "outputs": [],
   "source": []
  }
 ],
 "metadata": {
  "kernelspec": {
   "display_name": "Python 3",
   "language": "python",
   "name": "python3"
  },
  "language_info": {
   "codemirror_mode": {
    "name": "ipython",
    "version": 3
   },
   "file_extension": ".py",
   "mimetype": "text/x-python",
   "name": "python",
   "nbconvert_exporter": "python",
   "pygments_lexer": "ipython3",
   "version": "3.6.1"
  }
 },
 "nbformat": 4,
 "nbformat_minor": 2
}
