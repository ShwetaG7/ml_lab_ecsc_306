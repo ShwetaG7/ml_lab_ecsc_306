{
 "cells": [
  {
   "cell_type": "code",
   "execution_count": 1,
   "metadata": {},
   "outputs": [
    {
     "name": "stdout",
     "output_type": "stream",
     "text": [
      "epoch value: 400\n",
      "theta1: 0.542483\n",
      "theta0: 1.92193\n",
      "epoch value: 800\n",
      "theta1: 0.268808\n",
      "theta0: 3.33154\n",
      "epoch value: 1200\n",
      "theta1: 0.0478315\n",
      "theta0: 4.46971\n",
      "epoch value: 1600\n",
      "theta1: -0.130595\n",
      "theta0: 5.38873\n"
     ]
    }
   ],
   "source": [
    "import tensorflow as tf\n",
    "import matplotlib.pyplot as plt\n",
    "\n",
    "\n",
    "\n",
    "x=tf.constant([5.0,2.0,4.0,5.0,7.0],name='x')\n",
    "y=tf.constant([1.0,7.0,9.0,5.0,4.0],name='y')\n",
    "epoch=tf.constant(400)\n",
    "lr=0.005\n",
    "for i in range(4):\n",
    "    p=tf.multiply(epoch,(i+1))\n",
    "    t1=0.0\n",
    "    t0=0.0\n",
    "    s1=tf.reduce_sum(tf.multiply(tf.subtract(tf.add(tf.multiply(x,t1),t0),y),x))\n",
    "    s0=tf.reduce_sum(tf.subtract(tf.add(tf.multiply(x,t1),t0),y))\n",
    "    tn1=tf.subtract(t1,tf.multiply(lr,tf.divide(s1,tf.cast(tf.size(x),tf.float32))))\n",
    "    tn0=tf.subtract(t0,tf.multiply(lr,tf.divide(s0,tf.cast(tf.size(x),tf.float32))))\n",
    "    threshold=0.001\n",
    "    model=tf.global_variables_initializer()\n",
    "    with tf.Session() as sess:\n",
    "        sess.run(model)\n",
    "        for j in range(sess.run(p)):\n",
    "            t1=tn1\n",
    "            t0=tn0\n",
    "            s1=tf.reduce_sum(tf.multiply(tf.subtract(tf.add(tf.multiply(x,t1),t0),y),x))\n",
    "            s0=tf.reduce_sum(tf.subtract(tf.add(tf.multiply(x,t1),t0),y))\n",
    "            tn1=tf.subtract(t1,tf.multiply(lr,tf.divide(s1,tf.cast(tf.size(x),tf.float32))))\n",
    "            tn0=tf.subtract(t0,tf.multiply(lr,tf.divide(s0,tf.cast(tf.size(x),tf.float32))))  \n",
    "        print(\"epoch value:\",sess.run(p))\n",
    "        print(\"theta1:\",sess.run(tn1))\n",
    "        print(\"theta0:\",sess.run(tn0))"
   ]
  },
  {
   "cell_type": "code",
   "execution_count": null,
   "metadata": {
    "collapsed": true
   },
   "outputs": [],
   "source": []
  }
 ],
 "metadata": {
  "kernelspec": {
   "display_name": "Python 3",
   "language": "python",
   "name": "python3"
  },
  "language_info": {
   "codemirror_mode": {
    "name": "ipython",
    "version": 3
   },
   "file_extension": ".py",
   "mimetype": "text/x-python",
   "name": "python",
   "nbconvert_exporter": "python",
   "pygments_lexer": "ipython3",
   "version": "3.6.1"
  }
 },
 "nbformat": 4,
 "nbformat_minor": 2
}
